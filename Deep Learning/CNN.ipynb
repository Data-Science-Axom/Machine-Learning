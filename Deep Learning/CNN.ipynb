{
  "nbformat": 4,
  "nbformat_minor": 0,
  "metadata": {
    "colab": {
      "name": "CNN.ipynb",
      "provenance": [],
      "collapsed_sections": []
    },
    "kernelspec": {
      "name": "python3",
      "display_name": "Python 3"
    },
    "accelerator": "GPU"
  },
  "cells": [
    {
      "cell_type": "markdown",
      "metadata": {
        "id": "VE0HQqwKfRfd",
        "colab_type": "text"
      },
      "source": [
        "**Convolutional Neural Networks**"
      ]
    },
    {
      "cell_type": "markdown",
      "metadata": {
        "id": "EILPfOmEp5x_",
        "colab_type": "text"
      },
      "source": [
        "Part 1 - Building the CNN"
      ]
    },
    {
      "cell_type": "code",
      "metadata": {
        "id": "dLwAp7TL9dev",
        "colab_type": "code",
        "colab": {}
      },
      "source": [
        "%tensorflow_version 1.x"
      ],
      "execution_count": 0,
      "outputs": []
    },
    {
      "cell_type": "code",
      "metadata": {
        "id": "H-FNksivL1uD",
        "colab_type": "code",
        "colab": {}
      },
      "source": [
        "from google.colab import drive\n",
        "drive.mount('/content/gdrive')"
      ],
      "execution_count": 0,
      "outputs": []
    },
    {
      "cell_type": "code",
      "metadata": {
        "id": "qXzRqNGqfZ7p",
        "colab_type": "code",
        "colab": {}
      },
      "source": [
        "#importing the keras libraries and packages\n",
        "from keras.models import Sequential\n",
        "from keras.layers import Convolution2D, MaxPooling2D, Flatten, Dense"
      ],
      "execution_count": 0,
      "outputs": []
    },
    {
      "cell_type": "code",
      "metadata": {
        "id": "JfgM-0CYrcsN",
        "colab_type": "code",
        "colab": {}
      },
      "source": [
        "#initialising the CNN\n",
        "classifier = Sequential()"
      ],
      "execution_count": 0,
      "outputs": []
    },
    {
      "cell_type": "code",
      "metadata": {
        "id": "YB7nCNUsroNG",
        "colab_type": "code",
        "colab": {}
      },
      "source": [
        "#Step 1 - Convolution\n",
        "classifier.add(Convolution2D(32,(3,3),input_shape=(64,64,3),activation='relu'))\n",
        "#classifier.add(Convolution2D(32,3,3,input_shape=(64,64,3),activation='relu'))"
      ],
      "execution_count": 0,
      "outputs": []
    },
    {
      "cell_type": "code",
      "metadata": {
        "id": "h8y_zOimv9Ov",
        "colab_type": "code",
        "colab": {}
      },
      "source": [
        "#Step 2 - Pooling\n",
        "classifier.add(MaxPooling2D(pool_size=(2,2)))"
      ],
      "execution_count": 0,
      "outputs": []
    },
    {
      "cell_type": "code",
      "metadata": {
        "id": "yt7ZPKmrIxfD",
        "colab_type": "code",
        "colab": {}
      },
      "source": [
        "#adding a second convolutional layer\n",
        "classifier.add(Convolution2D(32,(3,3),activation='relu'))\n",
        "classifier.add(MaxPooling2D(pool_size=(2,2)))"
      ],
      "execution_count": 0,
      "outputs": []
    },
    {
      "cell_type": "code",
      "metadata": {
        "id": "4WS6YUcLxNzx",
        "colab_type": "code",
        "colab": {}
      },
      "source": [
        "#Step 3 - Flattening\n",
        "classifier.add(Flatten())"
      ],
      "execution_count": 0,
      "outputs": []
    },
    {
      "cell_type": "code",
      "metadata": {
        "id": "7of1UxFL0djr",
        "colab_type": "code",
        "colab": {}
      },
      "source": [
        "#Step 4 - Connection\n",
        "classifier.add(Dense(units=128,activation=\"relu\"))\n",
        "#classifier.add(Dense(output_dim=6,activation=\"relu\"))\n",
        "classifier.add(Dense(units=1,activation=\"sigmoid\"))\n",
        "#classifier.add(Dense(output_dim=1,activation=\"sigmoid\"))"
      ],
      "execution_count": 0,
      "outputs": []
    },
    {
      "cell_type": "code",
      "metadata": {
        "id": "lTzGWa67vUSn",
        "colab_type": "code",
        "colab": {}
      },
      "source": [
        "#compiling the CNN\n",
        "classifier.compile(optimizer=\"adam\",loss=\"binary_crossentropy\",metrics=[\"accuracy\"])"
      ],
      "execution_count": 0,
      "outputs": []
    },
    {
      "cell_type": "markdown",
      "metadata": {
        "id": "3h-AdIQ044cU",
        "colab_type": "text"
      },
      "source": [
        "Part 2 - Fitting the CNN to the images"
      ]
    },
    {
      "cell_type": "code",
      "metadata": {
        "id": "yKDOHzsw43YU",
        "colab_type": "code",
        "colab": {}
      },
      "source": [
        " from keras.preprocessing.image import ImageDataGenerator\n",
        " train_datagen = ImageDataGenerator(\n",
        "        rescale=1./255,\n",
        "        shear_range=0.2,\n",
        "        zoom_range=0.2,\n",
        "        horizontal_flip=True)\n",
        "\n",
        "test_datagen = ImageDataGenerator(rescale=1./255)\n",
        "\n",
        "training_set = train_datagen.flow_from_directory('/content/gdrive/My Drive/Colab/dataset/training_set',\n",
        "                                                 target_size=(64, 64),\n",
        "                                                 batch_size=32,\n",
        "                                                 class_mode='binary')\n",
        "\n",
        "test_set = test_datagen.flow_from_directory('/content/gdrive/My Drive/Colab/dataset/test_set',\n",
        "                                            target_size=(64, 64),\n",
        "                                            batch_size=32,\n",
        "                                            class_mode='binary')\n",
        "\n",
        "classifier.fit_generator(training_set,\n",
        "                    steps_per_epoch=8000,                   #samples_per_epoch=8000\n",
        "                    epochs=25,                              #nb_epochs=25\n",
        "                    validation_data=test_set,\n",
        "                    validation_steps=2000)                  #nv_val_samples"
      ],
      "execution_count": 0,
      "outputs": []
    }
  ]
}